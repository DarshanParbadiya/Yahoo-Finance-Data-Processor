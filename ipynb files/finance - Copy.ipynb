{
 "cells": [
  {
   "cell_type": "code",
   "execution_count": null,
   "metadata": {},
   "outputs": [],
   "source": [
    "import yfinance as yf\n",
    "import pandas as pd\n",
    "# Replace 'your_file.xlsx' with the path to your Excel file\n",
    "file_path = 'Asset_and_Accrual_Detail_CM.csv'\n",
    "\n",
    "# Read the Excel file\n",
    "df = pd.read_csv(file_path)\n",
    "\n",
    "df = df[['Ticker','Security Description 1','Country Code','Local Price','ISIN','Acct Base Currency Code','Issue Currency Code','Segment']]\n",
    "df = df[df['Segment'] == 'EQUITIES']\n"
   ]
  },
  {
   "cell_type": "code",
   "execution_count": null,
   "metadata": {},
   "outputs": [],
   "source": [
    "df.head()"
   ]
  },
  {
   "cell_type": "markdown",
   "metadata": {},
   "source": [
    "### Xls format does not work really well with openpyxl and xlrd"
   ]
  },
  {
   "cell_type": "code",
   "execution_count": null,
   "metadata": {},
   "outputs": [],
   "source": [
    "import openpyxl\n",
    "# Load the workbook\n",
    "import pandas as pd\n",
    "import xlrd\n",
    "\n",
    "# Replace 'your_file.xlsm' with the path to your Excel file with macros\n",
    "file_path = 'Asset_and_Accrual_Detail_CM.xls'\n",
    "# Read the .xls file\n",
    "df = pd.read_excel(file_path, engine='xlrd')\n",
    "\n",
    "# Display the first few rows of the dataframe\n",
    "df.head()"
   ]
  },
  {
   "cell_type": "markdown",
   "metadata": {},
   "source": [
    "## Yahoo finance api usage basic"
   ]
  },
  {
   "cell_type": "code",
   "execution_count": null,
   "metadata": {},
   "outputs": [],
   "source": [
    "# Download historical data for Apple (AAPL)\n",
    "apple_data = yf.download(\"BMO\")\n",
    "print(apple_data)\n"
   ]
  },
  {
   "cell_type": "code",
   "execution_count": null,
   "metadata": {},
   "outputs": [],
   "source": [
    "apple_data.head()"
   ]
  },
  {
   "cell_type": "code",
   "execution_count": null,
   "metadata": {},
   "outputs": [],
   "source": [
    "# Replace 'AAPL' with the ticker symbol of the stock you're interested in\n",
    "ticker_symbol = 'AAPL'\n",
    "\n",
    "# Create a Ticker object\n",
    "ticker = yf.Ticker(ticker_symbol)\n",
    "\n",
    "# Get historical market data\n",
    "# You can specify the period (e.g., '1d', '5d', '1mo', '3mo', '6mo', '1y', '2y', '5y', '10y', 'ytd', 'max')\n",
    "# and the interval (e.g., '1m', '2m', '5m', '15m', '30m', '60m', '90m', '1h', '1d', '5d', '1wk', '1mo', '3mo')\n",
    "historical_data = ticker.history(period='1y', interval='1d')\n",
    "\n",
    "# Display the historical data\n",
    "historical_data"
   ]
  },
  {
   "cell_type": "code",
   "execution_count": null,
   "metadata": {},
   "outputs": [],
   "source": [
    "import yfinance as yf\n",
    "import pandas as pd\n",
    "\n",
    "# Example ticker\n",
    "ticker = yf.Ticker(\"BMO.TO\")\n",
    "\n",
    "# Get historical data for the past year with daily intervals\n",
    "historical_data = ticker.history(period='1y', interval='1d')\n",
    "\n",
    "# Get yesterday's date\n",
    "yesterday = pd.Timestamp.today() - pd.Timedelta(days=1)\n",
    "\n",
    "# Get the close price for yesterday\n",
    "yesterday_close = historical_data.loc[yesterday.strftime('%Y-%m-%d')]['Close']\n",
    "\n",
    "print(f\"Yesterday's close price: {yesterday_close}\")"
   ]
  },
  {
   "cell_type": "code",
   "execution_count": null,
   "metadata": {},
   "outputs": [],
   "source": [
    "def get_current_base_price(ticker_symbol):\n",
    "    if ticker_symbol:\n",
    "        # Replace 'AAPL' with the ticker symbol of the stock you're interested in\n",
    "        # ticker_symbol = 'BMO.TO'\n",
    "\n",
    "        # Create a Ticker object\n",
    "        ticker = yf.Ticker(ticker_symbol)\n",
    "\n",
    "        # Get the current price\n",
    "        current_price = ticker.info['currentPrice']\n",
    "\n",
    "        # Display the current price\n",
    "        print(f\"The current price of {ticker_symbol} is ${current_price}\")\n",
    "    else:\n",
    "        print(\"Please provide a valid ticker symbol.\")\n",
    "        \n",
    "# Example usage\n",
    "get_current_base_price('BMO.TO')"
   ]
  },
  {
   "cell_type": "code",
   "execution_count": null,
   "metadata": {},
   "outputs": [],
   "source": []
  },
  {
   "cell_type": "code",
   "execution_count": null,
   "metadata": {},
   "outputs": [],
   "source": [
    "def get_historical_data(ticker_symbol, period='1y', interval='1d'):\n",
    "    if ticker_symbol:\n",
    "        # Create a Ticker object\n",
    "        ticker = yf.Ticker(ticker_symbol)\n",
    "\n",
    "        # Get historical market data\n",
    "        historical_data = ticker.history(period=period, interval=interval)\n",
    "\n",
    "        # Display the historical data\n",
    "        print(historical_data)\n",
    "        return historical_data\n",
    "    else:\n",
    "        print(\"Please provide a valid ticker symbol.\")\n",
    "        return None\n",
    "\n",
    "# Example usage\n",
    "historical_data = get_historical_data('BMO.TO', period='1mo', interval='1d')"
   ]
  },
  {
   "cell_type": "code",
   "execution_count": null,
   "metadata": {},
   "outputs": [],
   "source": [
    "import matplotlib.pyplot as plt\n",
    "\n",
    "def plot_historical_data(ticker_symbol, period='1y', interval='1d'):\n",
    "    # Get historical data\n",
    "    historical_data = get_historical_data(ticker_symbol, period, interval)\n",
    "    \n",
    "    if historical_data is not None and not historical_data.empty:\n",
    "        # Plot the historical data\n",
    "        plt.figure(figsize=(10, 6))\n",
    "        plt.plot(historical_data.index, historical_data['Close'], label='Close Price')\n",
    "        plt.xlabel('Date')\n",
    "        plt.ylabel('Close Price')\n",
    "        plt.title(f'Historical Close Price of {ticker_symbol}')\n",
    "        plt.legend()\n",
    "        plt.grid(True)\n",
    "        plt.show()\n",
    "    else:\n",
    "        print(f\"No historical data available for {ticker_symbol}.\")\n",
    "\n",
    "# Example usage\n",
    "plot_historical_data('BMO', period='1mo', interval='1d')"
   ]
  },
  {
   "cell_type": "code",
   "execution_count": null,
   "metadata": {},
   "outputs": [],
   "source": [
    "import yfinance as yf\n",
    "\n",
    "def get_stock_data_by_isin(isin):\n",
    "    # Manually search for the ticker symbol using ISIN on Yahoo Finance\n",
    "    ticker_symbol = 'BMO'  # Example for Bank of Montreal\n",
    "    ticker = yf.Ticker(ticker_symbol)\n",
    "    historical_data = ticker.history(period='1y', interval='1d')\n",
    "    return historical_data\n",
    "\n",
    "# Example usage\n",
    "isin = 'CA0636711016'\n",
    "historical_data = get_stock_data_by_isin(isin)\n",
    "print(historical_data)"
   ]
  },
  {
   "cell_type": "markdown",
   "metadata": {},
   "source": [
    "### Getting the current Ticker info using scraping"
   ]
  },
  {
   "cell_type": "code",
   "execution_count": null,
   "metadata": {},
   "outputs": [],
   "source": [
    "import requests\n",
    "from bs4 import BeautifulSoup\n",
    "\n",
    "def get_ticker_from_isin(isin):\n",
    "    search_url = f\"https://finance.yahoo.com/lookup?s={isin}\"\n",
    "    response = requests.get(search_url)\n",
    "    soup = BeautifulSoup(response.text, 'html.parser')\n",
    "    \n",
    "    # Find the ticker symbol in the search results\n",
    "    ticker_tag = soup.find('a', {'class': 'Fw(b)'})\n",
    "    if ticker_tag:\n",
    "        ticker_symbol = ticker_tag.text\n",
    "        return ticker_symbol\n",
    "    else:\n",
    "        print(\"Ticker symbol not found.\")\n",
    "        return None\n",
    "\n",
    "# Example usage\n",
    "isin = 'CA0636711016'\n",
    "ticker_symbol = get_ticker_from_isin(isin)\n",
    "print(f\"Ticker Symbol: {ticker_symbol}\")"
   ]
  },
  {
   "cell_type": "code",
   "execution_count": null,
   "metadata": {},
   "outputs": [],
   "source": []
  },
  {
   "cell_type": "markdown",
   "metadata": {},
   "source": [
    "## Reading the Asset and Accrual Detail file"
   ]
  },
  {
   "cell_type": "code",
   "execution_count": null,
   "metadata": {},
   "outputs": [],
   "source": [
    "import math\n",
    "\n",
    "# Iterate over rows and only process those with a valid ticker\n",
    "for index, row in df[df['Ticker'].notna()].iterrows():\n",
    "    print(f\"Index: {index}, {row['Base Price']}, {row['ISIN']}, {row['Ticker']}\")"
   ]
  },
  {
   "cell_type": "code",
   "execution_count": null,
   "metadata": {},
   "outputs": [],
   "source": [
    "df.to_csv('Asset_and_Accrual_Detail_CM with difference.csv', index=False)"
   ]
  },
  {
   "cell_type": "markdown",
   "metadata": {},
   "source": [
    "### Ticker Modification Settings"
   ]
  },
  {
   "cell_type": "code",
   "execution_count": null,
   "metadata": {},
   "outputs": [],
   "source": [
    "country_mapping = {\n",
    "    'CA': 'TO',  # Canada\n",
    "    'HK': 'HK',  # Hong Kong\n",
    "    # 'US': '',    # United States\n",
    "    # 'JP': 'T',   # Japan\n",
    "    # 'GB': 'L',   # United Kingdom\n",
    "    # 'DE': 'DE',  # Germany\n",
    "    # 'FR': 'PA',  # France\n",
    "    # 'IT': 'MI',  # Italy\n",
    "    # 'ES': 'MC',  # Spain\n",
    "    # 'AU': 'AX',  # Australia\n",
    "    # 'IN': 'BO',  # India (Bombay Stock Exchange)\n",
    "    # 'CN': 'SS',  # China (Shanghai Stock Exchange)\n",
    "    # 'KR': 'KS',  # South Korea\n",
    "    # 'SG': 'SI',  # Singapore\n",
    "    # 'TW': 'TW',  # Taiwan\n",
    "    # 'BR': 'SA',  # Brazil\n",
    "    # 'MX': 'MX',  # Mexico\n",
    "    # 'ZA': 'JO',  # South Africa\n",
    "    # 'IR' : \"\"\n",
    "}"
   ]
  },
  {
   "cell_type": "code",
   "execution_count": null,
   "metadata": {},
   "outputs": [],
   "source": [
    "modifications = {\n",
    "    '/': '-',\n",
    "    '1' : '0001'\n",
    "}"
   ]
  },
  {
   "cell_type": "markdown",
   "metadata": {},
   "source": [
    "### How ticker should be modified"
   ]
  },
  {
   "cell_type": "code",
   "execution_count": null,
   "metadata": {},
   "outputs": [],
   "source": [
    "for index, row in df.iterrows():\n",
    "    print(f\"Index: {index}, {row['Local Price']}, {row['ISIN']}, {row['Ticker']}\")\n",
    "    if pd.isna(row['Ticker']):\n",
    "        print(f\"Index: {index}, Ticker is NaN\")\n",
    "    else:\n",
    "        ticker = row['Ticker']\n",
    "        # Check if any character in the ticker needs modification\n",
    "        for key, value in modifications.items():\n",
    "            if key in row['Ticker']:\n",
    "                ticker = ticker.replace(key, value)\n",
    "                # print(f\"Modified Ticker: {ticker}\")\n",
    "        \n",
    "    row['Modified Ticker'] = ticker\n",
    "    try:\n",
    "        ticker_modification = country_mapping[row['Country Code']]\n",
    "        # print(ticker_modification)\n",
    "    except:\n",
    "        print('No modification')\n",
    "        ticker_modification = \"\"\n",
    "    print(f'final ticker {ticker +\".\"+ ticker_modification}')\n"
   ]
  },
  {
   "cell_type": "code",
   "execution_count": null,
   "metadata": {},
   "outputs": [],
   "source": [
    "df.head()"
   ]
  },
  {
   "cell_type": "code",
   "execution_count": null,
   "metadata": {},
   "outputs": [],
   "source": [
    "yesterday = pd.Timestamp.today() - pd.Timedelta(days=1)\n",
    "def get_current_price(ticker_symbol):\n",
    "    try:\n",
    "        ticker = yf.Ticker(ticker_symbol)\n",
    "        current_price = ticker.info.get('currentPrice')\n",
    "        return current_price\n",
    "    except Exception as e:\n",
    "        # print(f\"Error retrieving current price for {ticker_symbol}: {e}\")\n",
    "        return None\n",
    "    \n",
    "def get_yesterday_price(ticker_symbol):\n",
    "    try:\n",
    "        ticker = yf.Ticker(ticker_symbol)\n",
    "        # Get historical data for the past two days with daily intervals\n",
    "        historical_data = ticker.history(period='5d', interval='1d')\n",
    "\n",
    "        # Get yesterday's close price\n",
    "        # yesterday_close = historical_data['Close'].iloc[-2]\n",
    "        # Get yesterday's date\n",
    "        # yesterday = pd.Timestamp.today() - pd.Timedelta(days=1)\n",
    "        # Get the close price for yesterday\n",
    "        yesterday_close = historical_data.loc[yesterday.strftime('%Y-%m-%d')]['Close']\n",
    "        return yesterday_close\n",
    "    except Exception as e:\n",
    "        return None\n",
    "        # print(f\"Yesterday's close price: {yesterday_close}\")"
   ]
  },
  {
   "cell_type": "code",
   "execution_count": null,
   "metadata": {},
   "outputs": [],
   "source": [
    "# Iterate through each row and modify the ticker value if necessary\n",
    "for index, row in df.iterrows():\n",
    "    print(f\"Index: {index}, {row['Local Price']}, {row['ISIN']}, {row['Ticker']}\")\n",
    "    \n",
    "    if pd.isna(row['Ticker']):\n",
    "        print(f\"Index: {index}, Ticker is NaN\")\n",
    "        ticker = None\n",
    "    else:\n",
    "        ticker = row['Ticker']\n",
    "        # Check if any character in the ticker needs modification\n",
    "        for key, value in modifications.items():\n",
    "            if key in row['Ticker']:\n",
    "                ticker = ticker.replace(key, value)\n",
    "                # print(f\"Modified Ticker: {ticker}\")\n",
    "    \n",
    "        try:\n",
    "            ticker_modification = \".\"+country_mapping[row['Country Code']]\n",
    "            # print(ticker_modification)\n",
    "        except KeyError:\n",
    "            # print('No modification')\n",
    "            ticker_modification = \"\"\n",
    "        \n",
    "        final_ticker = ticker+ticker_modification\n",
    "        # print(f'Final Ticker: {final_ticker}')\n",
    "        df.at[index, 'Final Ticker'] = final_ticker\n",
    "        \n",
    "        try:\n",
    "            current_price = get_yesterday_price(final_ticker)\n",
    "        except Exception as e:\n",
    "            print(f\"Error retrieving current price for {row['Ticker']}: {e}\")\n",
    "            current_price = None\n",
    "        else:\n",
    "            if current_price is not None:\n",
    "                difference = float(current_price) - float(row['Local Price'])\n",
    "                print(row['Ticker'], row['Local Price'], current_price, difference)\n",
    "                df.at[index, 'Difference'] = difference\n",
    "                df.at[index, 'Yahoo Finance'] = current_price\n",
    "            else:\n",
    "                df.at[index, 'Difference'] = None\n",
    "        \n",
    "df['Yahoo Finance'] = df['Yahoo Finance'].round(3)\n",
    "df['Difference'] = df['Difference'].round(3)        \n",
    "    # Save the DataFrame to a CSV file\n",
    "df.to_csv('modified_tickers.csv', index=False)\n",
    "\n",
    "print(\"The final tickers have been saved to modified_tickers.csv\")"
   ]
  },
  {
   "cell_type": "code",
   "execution_count": null,
   "metadata": {},
   "outputs": [],
   "source": [
    "df['Yahoo Finance'] = df['Yahoo Finance'].round(3)\n",
    "df['Difference'] = df['Difference'].round(3)        \n",
    "    # Save the DataFrame to a CSV file\n",
    "df.to_csv('modified_tickers.csv', index=False)"
   ]
  },
  {
   "cell_type": "code",
   "execution_count": null,
   "metadata": {},
   "outputs": [],
   "source": [
    "value = 0.9554000153\n",
    "rounded_value = round(value, 2)\n",
    "print(rounded_value)"
   ]
  }
 ],
 "metadata": {
  "kernelspec": {
   "display_name": ".venv",
   "language": "python",
   "name": "python3"
  },
  "language_info": {
   "codemirror_mode": {
    "name": "ipython",
    "version": 3
   },
   "file_extension": ".py",
   "mimetype": "text/x-python",
   "name": "python",
   "nbconvert_exporter": "python",
   "pygments_lexer": "ipython3",
   "version": "3.11.9"
  }
 },
 "nbformat": 4,
 "nbformat_minor": 2
}
