{
 "cells": [
  {
   "cell_type": "code",
   "execution_count": null,
   "metadata": {},
   "outputs": [
    {
     "ename": "",
     "evalue": "",
     "output_type": "error",
     "traceback": [
      "\u001b[1;31mRunning cells with 'Python 3.11.9' requires the ipykernel package.\n",
      "\u001b[1;31mRun the following command to install 'ipykernel' into the Python environment. \n",
      "\u001b[1;31mCommand: 'c:/Users/dparbadiya/AppData/Local/Microsoft/WindowsApps/python3.11.exe -m pip install ipykernel -U --user --force-reinstall'"
     ]
    }
   ],
   "source": [
    "import yfinance as yf\n",
    "import pandas as pd\n",
    "# Replace 'your_file.xlsx' with the path to your Excel file\n",
    "file_path = 'Asset_and_Accrual_Detail_CM.csv'\n",
    "\n",
    "# Read the Excel file\n",
    "df = pd.read_csv(file_path)\n",
    "\n",
    "df = df[['Ticker','Security Description 1','Country Code','Local Price','ISIN','Acct Base Currency Code','Issue Currency Code','Segment']]\n",
    "df = df[df['Segment'] == 'EQUITIES']\n"
   ]
  },
  {
   "cell_type": "code",
   "execution_count": null,
   "metadata": {},
   "outputs": [
    {
     "ename": "",
     "evalue": "",
     "output_type": "error",
     "traceback": [
      "\u001b[1;31mRunning cells with 'Python 3.11.9' requires the ipykernel package.\n",
      "\u001b[1;31mRun the following command to install 'ipykernel' into the Python environment. \n",
      "\u001b[1;31mCommand: 'c:/Users/dparbadiya/AppData/Local/Microsoft/WindowsApps/python3.11.exe -m pip install ipykernel -U --user --force-reinstall'"
     ]
    }
   ],
   "source": [
    "df.head()"
   ]
  },
  {
   "cell_type": "markdown",
   "metadata": {},
   "source": [
    "## Reading the Asset and Accrual Detail file"
   ]
  },
  {
   "cell_type": "code",
   "execution_count": null,
   "metadata": {},
   "outputs": [
    {
     "ename": "",
     "evalue": "",
     "output_type": "error",
     "traceback": [
      "\u001b[1;31mRunning cells with 'Python 3.11.9' requires the ipykernel package.\n",
      "\u001b[1;31mRun the following command to install 'ipykernel' into the Python environment. \n",
      "\u001b[1;31mCommand: 'c:/Users/dparbadiya/AppData/Local/Microsoft/WindowsApps/python3.11.exe -m pip install ipykernel -U --user --force-reinstall'"
     ]
    }
   ],
   "source": [
    "import math\n",
    "\n",
    "# Iterate over rows and only process those with a valid ticker\n",
    "for index, row in df[df['Ticker'].notna()].iterrows():\n",
    "    print(f\"Index: {index}, {row['Base Price']}, {row['ISIN']}, {row['Ticker']}\")"
   ]
  },
  {
   "cell_type": "code",
   "execution_count": null,
   "metadata": {},
   "outputs": [],
   "source": [
    "df.to_csv('Asset_and_Accrual_Detail_CM with difference.csv', index=False)"
   ]
  },
  {
   "cell_type": "markdown",
   "metadata": {},
   "source": [
    "### Ticker Modification Settings"
   ]
  },
  {
   "cell_type": "code",
   "execution_count": null,
   "metadata": {},
   "outputs": [],
   "source": [
    "country_mapping = {\n",
    "    'CA': 'TO',  # Canada\n",
    "    'HK': 'HK',  # Hong Kong\n",
    "    # 'US': '',    # United States\n",
    "    # 'JP': 'T',   # Japan\n",
    "    # 'GB': 'L',   # United Kingdom\n",
    "    # 'DE': 'DE',  # Germany\n",
    "    # 'FR': 'PA',  # France\n",
    "    # 'IT': 'MI',  # Italy\n",
    "    # 'ES': 'MC',  # Spain\n",
    "    # 'AU': 'AX',  # Australia\n",
    "    # 'IN': 'BO',  # India (Bombay Stock Exchange)\n",
    "    # 'CN': 'SS',  # China (Shanghai Stock Exchange)\n",
    "    # 'KR': 'KS',  # South Korea\n",
    "    # 'SG': 'SI',  # Singapore\n",
    "    # 'TW': 'TW',  # Taiwan\n",
    "    # 'BR': 'SA',  # Brazil\n",
    "    # 'MX': 'MX',  # Mexico\n",
    "    # 'ZA': 'JO',  # South Africa\n",
    "    # 'IR' : \"\"\n",
    "}"
   ]
  },
  {
   "cell_type": "code",
   "execution_count": null,
   "metadata": {},
   "outputs": [],
   "source": [
    "modifications = {\n",
    "    '/': '-',\n",
    "    '1' : '0001'\n",
    "}"
   ]
  },
  {
   "cell_type": "markdown",
   "metadata": {},
   "source": [
    "### How ticker should be modified"
   ]
  },
  {
   "cell_type": "code",
   "execution_count": null,
   "metadata": {},
   "outputs": [],
   "source": [
    "for index, row in df.iterrows():\n",
    "    print(f\"Index: {index}, {row['Local Price']}, {row['ISIN']}, {row['Ticker']}\")\n",
    "    if pd.isna(row['Ticker']):\n",
    "        print(f\"Index: {index}, Ticker is NaN\")\n",
    "    else:\n",
    "        ticker = row['Ticker']\n",
    "        # Check if any character in the ticker needs modification\n",
    "        for key, value in modifications.items():\n",
    "            if key in row['Ticker']:\n",
    "                ticker = ticker.replace(key, value)\n",
    "                # print(f\"Modified Ticker: {ticker}\")\n",
    "        \n",
    "    row['Modified Ticker'] = ticker\n",
    "    try:\n",
    "        ticker_modification = country_mapping[row['Country Code']]\n",
    "        # print(ticker_modification)\n",
    "    except:\n",
    "        print('No modification')\n",
    "        ticker_modification = \"\"\n",
    "    print(f'final ticker {ticker +\".\"+ ticker_modification}')"
   ]
  },
  {
   "cell_type": "code",
   "execution_count": null,
   "metadata": {},
   "outputs": [],
   "source": [
    "df.head()"
   ]
  },
  {
   "cell_type": "code",
   "execution_count": null,
   "metadata": {},
   "outputs": [],
   "source": [
    "yesterday = pd.Timestamp.today() - pd.Timedelta(days=1)\n",
    "def get_current_price(ticker_symbol):\n",
    "    try:\n",
    "        ticker = yf.Ticker(ticker_symbol)\n",
    "        current_price = ticker.info.get('currentPrice')\n",
    "        return current_price\n",
    "    except Exception as e:\n",
    "        # print(f\"Error retrieving current price for {ticker_symbol}: {e}\")\n",
    "        return None\n",
    "    \n",
    "def get_yesterday_price(ticker_symbol):\n",
    "    try:\n",
    "        ticker = yf.Ticker(ticker_symbol)\n",
    "        # Get historical data for the past two days with daily intervals\n",
    "        historical_data = ticker.history(period='5d', interval='1d')\n",
    "\n",
    "        # Get yesterday's close price\n",
    "        # yesterday_close = historical_data['Close'].iloc[-2]\n",
    "        # Get yesterday's date\n",
    "        # yesterday = pd.Timestamp.today() - pd.Timedelta(days=1)\n",
    "        # Get the close price for yesterday\n",
    "        yesterday_close = historical_data.loc[yesterday.strftime('%Y-%m-%d')]['Close']\n",
    "        return yesterday_close\n",
    "    except Exception as e:\n",
    "        return None\n",
    "        # print(f\"Yesterday's close price: {yesterday_close}\")"
   ]
  },
  {
   "cell_type": "code",
   "execution_count": null,
   "metadata": {},
   "outputs": [],
   "source": [
    "# Iterate through each row and modify the ticker value if necessary\n",
    "for index, row in df.iterrows():\n",
    "    print(f\"Index: {index}, {row['Local Price']}, {row['ISIN']}, {row['Ticker']}\")\n",
    "    \n",
    "    if pd.isna(row['Ticker']):\n",
    "        print(f\"Index: {index}, Ticker is NaN\")\n",
    "        ticker = None\n",
    "    else:\n",
    "        ticker = row['Ticker']\n",
    "        # Check if any character in the ticker needs modification\n",
    "        for key, value in modifications.items():\n",
    "            if key in row['Ticker']:\n",
    "                ticker = ticker.replace(key, value)\n",
    "                # print(f\"Modified Ticker: {ticker}\")\n",
    "    \n",
    "        try:\n",
    "            ticker_modification = \".\"+country_mapping[row['Country Code']]\n",
    "            # print(ticker_modification)\n",
    "        except KeyError:\n",
    "            # print('No modification')\n",
    "            ticker_modification = \"\"\n",
    "        \n",
    "        final_ticker = ticker+ticker_modification\n",
    "        # print(f'Final Ticker: {final_ticker}')\n",
    "        df.at[index, 'Final Ticker'] = final_ticker\n",
    "        \n",
    "        try:\n",
    "            current_price = get_yesterday_price(final_ticker)\n",
    "        except Exception as e:\n",
    "            print(f\"Error retrieving current price for {row['Ticker']}: {e}\")\n",
    "            current_price = None\n",
    "        else:\n",
    "            if current_price is not None:\n",
    "                difference = float(current_price) - float(row['Local Price'])\n",
    "                print(row['Ticker'], row['Local Price'], current_price, difference)\n",
    "                df.at[index, 'Difference'] = difference\n",
    "                df.at[index, 'Yahoo Finance'] = current_price\n",
    "            else:\n",
    "                df.at[index, 'Difference'] = None\n",
    "        \n",
    "# df['Yahoo Finance'] = df['Yahoo Finance'].round(3)\n",
    "# df['Difference'] = df['Difference'].round(3)        \n",
    "#     # Save the DataFrame to a CSV file\n",
    "# df.to_csv('modi`fied_tickers.csv', index=False)\n",
    "\n",
    "# print(\"The final tickers have been saved to modified_tickers.csv\")"
   ]
  },
  {
   "cell_type": "markdown",
   "metadata": {},
   "source": [
    "### Rounding the Results before saving"
   ]
  },
  {
   "cell_type": "code",
   "execution_count": null,
   "metadata": {},
   "outputs": [],
   "source": [
    "\n",
    "df['Yahoo Finance'] = df['Yahoo Finance'].round(3)\n",
    "df['Difference'] = df['Difference'].round(3)        \n",
    "    # Save the DataFrame to a CSV file\n",
    "df.to_csv('modified_tickers.csv', index=False)"
   ]
  }
 ],
 "metadata": {
  "kernelspec": {
   "display_name": "Python 3",
   "language": "python",
   "name": "python3"
  },
  "language_info": {
   "codemirror_mode": {
    "name": "ipython",
    "version": 3
   },
   "file_extension": ".py",
   "mimetype": "text/x-python",
   "name": "python",
   "nbconvert_exporter": "python",
   "pygments_lexer": "ipython3",
   "version": "3.11.9"
  }
 },
 "nbformat": 4,
 "nbformat_minor": 2
}
